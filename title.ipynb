{
 "cells": [
  {
   "cell_type": "code",
   "execution_count": 1,
   "metadata": {},
   "outputs": [],
   "source": [
    "from transformers import AutoTokenizer, AutoModel\n",
    "from transformers import pipeline\n",
    "import pandas as pd\n",
    "import pymysql\n",
    "\n",
    "model_path = \"bert-base-chinese-finetuning-financial-news-sentiment\"\n",
    "\n",
    "model=AutoModel.from_pretrained(model_path)\n",
    "tokenizer=AutoTokenizer.from_pretrained(model_path)\n",
    "pipe = pipeline(\"text-classification\", model=model_path,device=0)\n",
    "\n",
    "conn = pymysql.connect(host='localhost', user='root', password='123456', database='citicup', charset='utf8')\n",
    "\n",
    "# 创建游标\n",
    "cursor = conn.cursor()"
   ]
  },
  {
   "cell_type": "code",
   "execution_count": 2,
   "metadata": {},
   "outputs": [],
   "source": [
    "def getScore(input):\n",
    "    response = pipe(input)\n",
    "    score = 0\n",
    "    weights = [0.6, 0.3, 0.1]  # 定义权重列表\n",
    "    for index, i in enumerate(response):\n",
    "        weight = weights[index] if index < len(weights) else 0  # 如果索引超出权重列表的长度，则权重为0\n",
    "        if i['label'] == 'Positive':\n",
    "            score += 1 * weight\n",
    "        elif i['label'] == 'Negative':\n",
    "            score += -1 * weight\n",
    "        # print(i['label'], score)\n",
    "    return score"
   ]
  },
  {
   "cell_type": "code",
   "execution_count": 3,
   "metadata": {},
   "outputs": [
    {
     "name": "stderr",
     "output_type": "stream",
     "text": [
      "d:\\anaconda\\envs\\test\\lib\\site-packages\\transformers\\pipelines\\base.py:1101: UserWarning: You seem to be using the pipelines sequentially on GPU. In order to maximize efficiency please use a dataset\n",
      "  warnings.warn(\n"
     ]
    }
   ],
   "source": [
    "df = pd.read_excel('ClimbingTitle.xls')\n",
    "inputs = []\n",
    "\n",
    "insert_sql = \"INSERT INTO title_score (stock_code, score) VALUES (%s, %s)\"\n",
    "\n",
    "data_to_insert = []\n",
    "\n",
    "for i, row in df.iterrows():\n",
    "    inputs.append(row['post_title'])\n",
    "    if (i + 1) % 3 == 0:\n",
    "        stock_code = str(row['stock_code']).zfill(6) \n",
    "        score = getScore(inputs)\n",
    "        score = \"{:.1f}\".format(score)\n",
    "        data_to_insert.append((stock_code, score))\n",
    "        inputs = []\n",
    "        if len(data_to_insert) >= 1000:\n",
    "            cursor.executemany(insert_sql, data_to_insert)\n",
    "            conn.commit()\n",
    "            data_to_insert = []\n",
    "\n",
    "# 插入剩余的数据\n",
    "if data_to_insert:\n",
    "    cursor.executemany(insert_sql, data_to_insert)\n",
    "    conn.commit()\n",
    "\n",
    "cursor.close()\n",
    "conn.close()"
   ]
  },
  {
   "cell_type": "code",
   "execution_count": 38,
   "metadata": {},
   "outputs": [],
   "source": []
  },
  {
   "cell_type": "code",
   "execution_count": null,
   "metadata": {},
   "outputs": [],
   "source": []
  }
 ],
 "metadata": {
  "kernelspec": {
   "display_name": "test",
   "language": "python",
   "name": "python3"
  },
  "language_info": {
   "codemirror_mode": {
    "name": "ipython",
    "version": 3
   },
   "file_extension": ".py",
   "mimetype": "text/x-python",
   "name": "python",
   "nbconvert_exporter": "python",
   "pygments_lexer": "ipython3",
   "version": "3.10.8"
  }
 },
 "nbformat": 4,
 "nbformat_minor": 2
}
