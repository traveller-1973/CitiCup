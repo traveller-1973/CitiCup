{
 "cells": [
  {
   "cell_type": "code",
   "execution_count": 1,
   "metadata": {},
   "outputs": [],
   "source": [
    "import pickle\n",
    "import openai\n",
    "import pandas as pd\n",
    "from openai import OpenAI\n",
    "client = OpenAI(api_key = \"\")\n",
    "def get_score(input):\n",
    "    response = client.chat.completions.create(\n",
    "      model=\"gpt-3.5-turbo-0125\",\n",
    "      messages=[\n",
    "        {\"role\": \"system\", \"content\": \"\"\"Consider four days of stock ups and downs data and news headlines to predict whether the next day's \n",
    "                                      closing price will rise or fall. Only give me Rise or Fall\"\"\"},\n",
    "        {\"role\": \"user\", \"content\": f\"{input}\"}\n",
    "      ]\n",
    "    )\n",
    "    return response.choices[0].message.content"
   ]
  },
  {
   "cell_type": "code",
   "execution_count": null,
   "metadata": {},
   "outputs": [],
   "source": [
    "df = pd.read_excel('data/ClimbingResearchTitle.xls')\n",
    "inputs = []\n",
    "titles = {}\n",
    "\n",
    "for i, row in df.iterrows():\n",
    "    inputs.append(row['post_title'])\n",
    "    if (i + 1) % 3 == 0:\n",
    "        stock_code = str(row['stock_code']).zfill(6)\n",
    "        titles[stock_code] = inputs\n",
    "        inputs = []  # Reset inputs for next stock_code\n",
    "\n",
    "for key, value in titles.items():\n",
    "    print(key, value)"
   ]
  },
  {
   "cell_type": "code",
   "execution_count": null,
   "metadata": {},
   "outputs": [],
   "source": [
    "with open('data/change_20231108_20240307_pct_chg_df.pkl', 'rb') as f:\n",
    "    data = pickle.load(f)\n",
    "data=data.iloc[-5:-1]\n",
    "data"
   ]
  },
  {
   "cell_type": "code",
   "execution_count": null,
   "metadata": {},
   "outputs": [],
   "source": [
    "name_price = {}\n",
    "for column in data.columns:\n",
    "    name_price[column.split('.')[0]] = {str(index.date()): value for index, value in data[column].iteritems()}\n",
    "\n",
    "# print(name_price)\n",
    "for key, value in name_price.items():\n",
    "    print(key, value)\n",
    "    "
   ]
  },
  {
   "cell_type": "code",
   "execution_count": null,
   "metadata": {},
   "outputs": [],
   "source": [
    "def get_score(input):\n",
    "    response = client.chat.completions.create(\n",
    "      model=\"gpt-3.5-turbo-0125\",\n",
    "      messages=[\n",
    "        {\"role\": \"system\", \"content\": \"\"\"Consider four days of stock ups and downs data and news headlines to predict whether the next day's \n",
    "                                      closing price will rise or fall. Only give me Rise or Fall\"\"\"},\n",
    "        {\"role\": \"user\", \"content\": f\"{input}\"}\n",
    "      ]\n",
    "    )\n",
    "    return response.choices[0].message.content\n",
    "\n",
    "\n",
    "stock_predictions = {}\n",
    "\n",
    "for stock_code, price in name_price.items():\n",
    "    if stock_code in titles:\n",
    "        title=titles[stock_code]\n",
    "        input=str(price)+str(title)\n",
    "        prediction=get_score(input)\n",
    "\n",
    "        stock_predictions[stock_code] = prediction\n",
    "        print(stock_code, prediction)\n",
    "\n",
    "with open('predictions.pkl', 'wb') as file:\n",
    "    pickle.dump(stock_predictions, file)\n",
    "\n"
   ]
  },
  {
   "cell_type": "code",
   "execution_count": null,
   "metadata": {},
   "outputs": [],
   "source": [
    "for key, value in data.items():\n",
    "    if value ==\"Rise\":\n",
    "        data[key]=1\n",
    "    elif value ==\"Fall\":\n",
    "        data[key]=-1\n",
    "    print(key, value)"
   ]
  },
  {
   "cell_type": "code",
   "execution_count": null,
   "metadata": {},
   "outputs": [],
   "source": [
    "for key, value in data.items():\n",
    "    print(key, value)"
   ]
  },
  {
   "cell_type": "code",
   "execution_count": 22,
   "metadata": {},
   "outputs": [],
   "source": [
    "with open('predictions.pkl', 'wb') as file:\n",
    "    pickle.dump(data, file)"
   ]
  },
  {
   "cell_type": "code",
   "execution_count": null,
   "metadata": {},
   "outputs": [],
   "source": [
    "data =pickle.load(open('predictions.pkl', 'rb'))\n",
    "for key, value in data.items():\n",
    "    print(key, value)"
   ]
  },
  {
   "cell_type": "code",
   "execution_count": null,
   "metadata": {},
   "outputs": [],
   "source": []
  }
 ],
 "metadata": {
  "kernelspec": {
   "display_name": "test",
   "language": "python",
   "name": "python3"
  },
  "language_info": {
   "codemirror_mode": {
    "name": "ipython",
    "version": 3
   },
   "file_extension": ".py",
   "mimetype": "text/x-python",
   "name": "python",
   "nbconvert_exporter": "python",
   "pygments_lexer": "ipython3",
   "version": "3.10.8"
  }
 },
 "nbformat": 4,
 "nbformat_minor": 2
}
