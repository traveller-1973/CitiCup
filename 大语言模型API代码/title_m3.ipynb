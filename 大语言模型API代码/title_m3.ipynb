{
 "cells": [
  {
   "cell_type": "code",
   "execution_count": 2,
   "metadata": {},
   "outputs": [],
   "source": [
    "import pickle\n",
    "import openai\n",
    "import pandas as pd\n",
    "from openai import OpenAI\n",
    "client = OpenAI(api_key = \"\")\n",
    "def get_score(input):\n",
    "    response = client.chat.completions.create(\n",
    "      model=\"gpt-3.5-turbo-0125\",\n",
    "      messages=[\n",
    "        {\"role\": \"system\", \"content\": \"\"\"Consider recent financial news headlines, extract all positive and negative financial words from them, \n",
    "                        calculate the proportion of positive words. Only give me proportion score number,don't give me any other description\"\"\"},\n",
    "        {\"role\": \"user\", \"content\": f\"{input}\"}\n",
    "      ]\n",
    "    )\n",
    "    return response.choices[0].message.content"
   ]
  },
  {
   "cell_type": "code",
   "execution_count": null,
   "metadata": {},
   "outputs": [],
   "source": [
    "df = pd.read_excel('data/ClimbingResearchTitle.xls')\n",
    "inputs = []\n",
    "titles = {}\n",
    "\n",
    "for i, row in df.iterrows():\n",
    "    inputs.append(row['post_title'])\n",
    "    if (i + 1) % 3 == 0:\n",
    "        stock_code = str(row['stock_code']).zfill(6)\n",
    "        titles[stock_code] = inputs\n",
    "        inputs = []  # Reset inputs for next stock_code\n",
    "\n",
    "for key, value in titles.items():\n",
    "    print(key, value)"
   ]
  },
  {
   "cell_type": "code",
   "execution_count": null,
   "metadata": {},
   "outputs": [],
   "source": [
    "def get_score(input):\n",
    "    response = client.chat.completions.create(\n",
    "      model=\"gpt-3.5-turbo-0125\",\n",
    "      messages=[\n",
    "        {\"role\": \"system\", \"content\": \"\"\"Consider recent financial news headlines, extract all positive and negative financial words from them, \n",
    "                        calculate the proportion of positive words. Only give me proportion score number,don't give me any other description\"\"\"},\n",
    "        {\"role\": \"user\", \"content\": f\"{input}\"}\n",
    "      ]\n",
    "    )\n",
    "    return response.choices[0].message.content\n",
    "\n",
    "title_score = {}\n",
    "for key, value in titles.items():\n",
    "    score=get_score(value)\n",
    "    title_score[key] = score\n",
    "    print(key, score)"
   ]
  },
  {
   "cell_type": "code",
   "execution_count": 23,
   "metadata": {},
   "outputs": [],
   "source": [
    "with open('title_pos_rate.pkl', 'wb') as file:\n",
    "    pickle.dump(title_score, file)"
   ]
  },
  {
   "cell_type": "code",
   "execution_count": 52,
   "metadata": {},
   "outputs": [],
   "source": [
    "data =pickle.load(open('title_pos_rate.pkl', 'rb'))"
   ]
  },
  {
   "cell_type": "code",
   "execution_count": null,
   "metadata": {},
   "outputs": [],
   "source": [
    "# data =pickle.load(open('title_pos_rate.pkl', 'rb'))\n",
    "for key, value in data.items():\n",
    "    # try:\n",
    "    #     if float(value) >=1:\n",
    "    #         print(key, value)\n",
    "    # except ValueError:\n",
    "    #     print(key, value)\n",
    "    print(key, float(value))"
   ]
  },
  {
   "cell_type": "code",
   "execution_count": 47,
   "metadata": {},
   "outputs": [],
   "source": [
    "data[\"873576\"]=\"0.82\""
   ]
  },
  {
   "cell_type": "code",
   "execution_count": 51,
   "metadata": {},
   "outputs": [],
   "source": [
    "with open('title_pos_rate.pkl', 'wb') as file:\n",
    "    pickle.dump(data, file)"
   ]
  },
  {
   "cell_type": "code",
   "execution_count": null,
   "metadata": {},
   "outputs": [],
   "source": []
  }
 ],
 "metadata": {
  "kernelspec": {
   "display_name": "test",
   "language": "python",
   "name": "python3"
  },
  "language_info": {
   "codemirror_mode": {
    "name": "ipython",
    "version": 3
   },
   "file_extension": ".py",
   "mimetype": "text/x-python",
   "name": "python",
   "nbconvert_exporter": "python",
   "pygments_lexer": "ipython3",
   "version": "3.10.8"
  }
 },
 "nbformat": 4,
 "nbformat_minor": 2
}
