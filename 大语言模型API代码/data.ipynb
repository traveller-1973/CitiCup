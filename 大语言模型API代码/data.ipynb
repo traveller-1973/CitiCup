{
 "cells": [
  {
   "cell_type": "code",
   "execution_count": 1,
   "metadata": {},
   "outputs": [],
   "source": [
    "import pandas as pd\n",
    "import json\n",
    "from collections import defaultdict\n",
    "import pickle"
   ]
  },
  {
   "cell_type": "code",
   "execution_count": 13,
   "metadata": {},
   "outputs": [],
   "source": [
    "\n",
    "def calculate_stock_occurrences(stock_data):\n",
    "    stock_occurrences = defaultdict(int)\n",
    "\n",
    "    daily_averages = []\n",
    "    \n",
    "    for i in range(len(stock_data)):\n",
    "        current_stocks = set(stock_data[i])\n",
    "        for j in range(i+1, len(stock_data)):\n",
    "            common_stocks = current_stocks & set(stock_data[j])\n",
    "            for stock in common_stocks:\n",
    "                stock_occurrences[stock] += 1\n",
    "    \n",
    "        total_occurrences = sum(stock_occurrences.values())\n",
    "        \n",
    "        if len(current_stocks) > 0:\n",
    "            daily_average = total_occurrences / len(current_stocks)\n",
    "            daily_averages.append(daily_average)\n",
    "        else:\n",
    "            daily_averages.append(0)\n",
    "        \n",
    "        stock_occurrences.clear()\n",
    "\n",
    "\n",
    "    return daily_averages\n"
   ]
  },
  {
   "cell_type": "code",
   "execution_count": 14,
   "metadata": {},
   "outputs": [
    {
     "data": {
      "text/html": [
       "<div>\n",
       "<style scoped>\n",
       "    .dataframe tbody tr th:only-of-type {\n",
       "        vertical-align: middle;\n",
       "    }\n",
       "\n",
       "    .dataframe tbody tr th {\n",
       "        vertical-align: top;\n",
       "    }\n",
       "\n",
       "    .dataframe thead th {\n",
       "        text-align: right;\n",
       "    }\n",
       "</style>\n",
       "<table border=\"1\" class=\"dataframe\">\n",
       "  <thead>\n",
       "    <tr style=\"text-align: right;\">\n",
       "      <th></th>\n",
       "      <th>Unnamed: 0</th>\n",
       "      <th>stocks</th>\n",
       "    </tr>\n",
       "  </thead>\n",
       "  <tbody>\n",
       "    <tr>\n",
       "      <th>0</th>\n",
       "      <td>2013-01-04</td>\n",
       "      <td>[]</td>\n",
       "    </tr>\n",
       "    <tr>\n",
       "      <th>1</th>\n",
       "      <td>2013-01-07</td>\n",
       "      <td>[]</td>\n",
       "    </tr>\n",
       "    <tr>\n",
       "      <th>2</th>\n",
       "      <td>2013-01-08</td>\n",
       "      <td>[]</td>\n",
       "    </tr>\n",
       "    <tr>\n",
       "      <th>3</th>\n",
       "      <td>2013-01-09</td>\n",
       "      <td>[]</td>\n",
       "    </tr>\n",
       "    <tr>\n",
       "      <th>4</th>\n",
       "      <td>2013-01-10</td>\n",
       "      <td>[]</td>\n",
       "    </tr>\n",
       "    <tr>\n",
       "      <th>...</th>\n",
       "      <td>...</td>\n",
       "      <td>...</td>\n",
       "    </tr>\n",
       "    <tr>\n",
       "      <th>2632</th>\n",
       "      <td>2023-11-06</td>\n",
       "      <td>[430198.BJ, 430510.BJ, 831039.BJ, 831726.BJ, 8...</td>\n",
       "    </tr>\n",
       "    <tr>\n",
       "      <th>2633</th>\n",
       "      <td>2023-11-07</td>\n",
       "      <td>[430198.BJ, 831039.BJ, 831726.BJ, 832145.BJ, 8...</td>\n",
       "    </tr>\n",
       "    <tr>\n",
       "      <th>2634</th>\n",
       "      <td>2023-11-08</td>\n",
       "      <td>[430198.BJ, 830832.BJ, 831039.BJ, 831726.BJ, 8...</td>\n",
       "    </tr>\n",
       "    <tr>\n",
       "      <th>2635</th>\n",
       "      <td>2023-11-09</td>\n",
       "      <td>[430198.BJ, 831726.BJ, 831856.BJ, 832145.BJ, 8...</td>\n",
       "    </tr>\n",
       "    <tr>\n",
       "      <th>2636</th>\n",
       "      <td>2023-11-10</td>\n",
       "      <td>[430198.BJ, 430510.BJ, 831726.BJ, 831768.BJ, 8...</td>\n",
       "    </tr>\n",
       "  </tbody>\n",
       "</table>\n",
       "<p>2637 rows × 2 columns</p>\n",
       "</div>"
      ],
      "text/plain": [
       "     Unnamed: 0                                             stocks\n",
       "0    2013-01-04                                                 []\n",
       "1    2013-01-07                                                 []\n",
       "2    2013-01-08                                                 []\n",
       "3    2013-01-09                                                 []\n",
       "4    2013-01-10                                                 []\n",
       "...         ...                                                ...\n",
       "2632 2023-11-06  [430198.BJ, 430510.BJ, 831039.BJ, 831726.BJ, 8...\n",
       "2633 2023-11-07  [430198.BJ, 831039.BJ, 831726.BJ, 832145.BJ, 8...\n",
       "2634 2023-11-08  [430198.BJ, 830832.BJ, 831039.BJ, 831726.BJ, 8...\n",
       "2635 2023-11-09  [430198.BJ, 831726.BJ, 831856.BJ, 832145.BJ, 8...\n",
       "2636 2023-11-10  [430198.BJ, 430510.BJ, 831726.BJ, 831768.BJ, 8...\n",
       "\n",
       "[2637 rows x 2 columns]"
      ]
     },
     "execution_count": 14,
     "metadata": {},
     "output_type": "execute_result"
    }
   ],
   "source": [
    "data = pd.read_excel('换仓股票名称.xlsx')\n",
    "for index, row in data.iterrows():\n",
    "    lst = eval(row['stocks'])\n",
    "    json_str = json.dumps(lst)\n",
    "    lst_from_json = json.loads(json_str)\n",
    "    data.at[index, 'stocks'] = lst_from_json\n",
    "data"
   ]
  },
  {
   "cell_type": "code",
   "execution_count": null,
   "metadata": {},
   "outputs": [],
   "source": [
    "data_frame={}\n",
    "all_data=[]\n",
    "i=0\n",
    "for index, row in data.iterrows():\n",
    "    if row['stocks'] == []:\n",
    "        i+=1\n",
    "        continue\n",
    "    else:\n",
    "        # print(row['stocks'])\n",
    "        all_data.append(row['stocks'])\n",
    "        # daily_averages = calculate_stock_occurrences(row['stocks'])\n",
    "        # print(row[0].date())\n",
    "        # print(daily_averages)\n",
    "        i+=1\n",
    "        # data_frame[row[0].date()]=daily_averages\n",
    "# print(all_data[])\n",
    "daily_averages = calculate_stock_occurrences(all_data)\n",
    "print(daily_averages)\n",
    "print(i)\n",
    "        \n"
   ]
  },
  {
   "cell_type": "code",
   "execution_count": 16,
   "metadata": {},
   "outputs": [
    {
     "data": {
      "text/plain": [
       "2626"
      ]
     },
     "execution_count": 16,
     "metadata": {},
     "output_type": "execute_result"
    }
   ],
   "source": [
    "len(daily_averages)"
   ]
  },
  {
   "cell_type": "code",
   "execution_count": 11,
   "metadata": {},
   "outputs": [],
   "source": [
    "with open('data_frame.pkl', 'wb') as file:\n",
    "    pickle.dump(data_frame, file)"
   ]
  },
  {
   "cell_type": "code",
   "execution_count": null,
   "metadata": {},
   "outputs": [],
   "source": [
    "pickle_in = open('data_frame.pkl', 'rb')\n",
    "data_frame = pickle.load(pickle_in)\n",
    "data_frame"
   ]
  },
  {
   "cell_type": "code",
   "execution_count": null,
   "metadata": {},
   "outputs": [],
   "source": []
  }
 ],
 "metadata": {
  "kernelspec": {
   "display_name": "test",
   "language": "python",
   "name": "python3"
  },
  "language_info": {
   "codemirror_mode": {
    "name": "ipython",
    "version": 3
   },
   "file_extension": ".py",
   "mimetype": "text/x-python",
   "name": "python",
   "nbconvert_exporter": "python",
   "pygments_lexer": "ipython3",
   "version": "3.10.8"
  }
 },
 "nbformat": 4,
 "nbformat_minor": 2
}
